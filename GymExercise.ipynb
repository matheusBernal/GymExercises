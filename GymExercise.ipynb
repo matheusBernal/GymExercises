{
  "nbformat": 4,
  "nbformat_minor": 0,
  "metadata": {
    "colab": {
      "provenance": [],
      "authorship_tag": "ABX9TyMaJBpBPPEvkLu2uoQButbz",
      "include_colab_link": true
    },
    "kernelspec": {
      "name": "python3",
      "display_name": "Python 3"
    },
    "language_info": {
      "name": "python"
    }
  },
  "cells": [
    {
      "cell_type": "markdown",
      "metadata": {
        "id": "view-in-github",
        "colab_type": "text"
      },
      "source": [
        "<a href=\"https://colab.research.google.com/github/matheusBernal/GymExercises/blob/main/GymExercise.ipynb\" target=\"_parent\"><img src=\"https://colab.research.google.com/assets/colab-badge.svg\" alt=\"Open In Colab\"/></a>"
      ]
    },
    {
      "cell_type": "markdown",
      "source": [
        "This project uses data from gym members' exercise routines, physical attributes, and other fitness metrics. I will use this information to create two algorithms: one to classify the experience level and workout type, and another to perform regression to predict the calories burned."
      ],
      "metadata": {
        "id": "WvHKCOGABujn"
      }
    },
    {
      "cell_type": "code",
      "source": [
        "!pip install pandas\n",
        "!pip install numpy\n",
        "!pip install matplotlib\n",
        "!pip install seaborn\n",
        "!pip install sklearn\n",
        "!pip install tensorflow"
      ],
      "metadata": {
        "id": "E6T7zdSBZQWF"
      },
      "execution_count": null,
      "outputs": []
    },
    {
      "cell_type": "code",
      "source": [
        "import pandas as pd\n",
        "import numpy as np\n",
        "import tensorflow as tf\n",
        "import matplotlib.pyplot as plt\n",
        "import seaborn as sns\n",
        "from sklearn.linear_model import LinearRegression,Ridge\n",
        "from sklearn.preprocessing import StandardScaler,LabelEncoder,OneHotEncoder\n",
        "from sklearn.model_selection import train_test_split\n",
        "from sklearn.metrics import confusion_matrix, classification_report,accuracy_score,mean_squared_error,mean_absolute_error\n",
        "from sklearn.neural_network import MLPClassifier\n",
        "from sklearn.model_selection import GridSearchCV\n",
        "from sklearn.tree import DecisionTreeClassifier\n",
        "from sklearn.ensemble import RandomForestClassifier\n",
        "from sklearn.neighbors import\n",
        "from sklearn.naive_bayes import GaussianNB\n",
        "from sklearn import tree\n",
        "from sklearn.compose import ColumnTransformer\n",
        "from sklearn.svm import SVC"
      ],
      "metadata": {
        "id": "hTe81loU9TP2"
      },
      "execution_count": null,
      "outputs": []
    },
    {
      "cell_type": "code",
      "source": [
        "df = pd.read_csv('/content/gym_members_exercise_tracking.csv')\n",
        "df"
      ],
      "metadata": {
        "id": "3C-NAC1d-0dM"
      },
      "execution_count": null,
      "outputs": []
    },
    {
      "cell_type": "code",
      "source": [
        "df = df[['Age', 'Gender', 'Weight (kg)', 'Height (m)', 'Max_BPM', 'Avg_BPM','Resting_BPM', 'Session_Duration (hours)','Fat_Percentage', 'Water_Intake (liters)','Workout_Frequency (days/week)', 'BMI','Calories_Burned','Experience_Level','Workout_Type']]"
      ],
      "metadata": {
        "id": "PN-aDzT8_CKm"
      },
      "execution_count": null,
      "outputs": []
    },
    {
      "cell_type": "code",
      "source": [
        "df"
      ],
      "metadata": {
        "id": "7yfJ7bs4DP8_"
      },
      "execution_count": null,
      "outputs": []
    },
    {
      "cell_type": "code",
      "source": [
        "df.info()"
      ],
      "metadata": {
        "id": "7oiE4Zu3Hn2s"
      },
      "execution_count": null,
      "outputs": []
    },
    {
      "cell_type": "code",
      "source": [
        "df.describe()"
      ],
      "metadata": {
        "id": "lv8Hc_kYtFYy"
      },
      "execution_count": null,
      "outputs": []
    },
    {
      "cell_type": "markdown",
      "source": [
        "I'm going to divide my data into three groups: workout type, experience level, and calories burned. First, I will create the regression model for calories burned. After that, I will create the classification for experience level, and finally, I will create the classification for workout type."
      ],
      "metadata": {
        "id": "uJ3W9NQPylOM"
      }
    },
    {
      "cell_type": "code",
      "source": [
        " #First i'll need to using the label encoder on column Gender to pass on train regression\n",
        "genderLabel = LabelEncoder()\n",
        "df_preprocessing = df\n",
        "df_preprocessing['Gender'] = genderLabel.fit_transform(df_preprocessing['Gender'])\n",
        "df_preprocessing"
      ],
      "metadata": {
        "id": "9ORtBPBMESXm"
      },
      "execution_count": null,
      "outputs": []
    },
    {
      "cell_type": "markdown",
      "source": [
        "Now, let's examine the correlation between the variables and calories burned and select the strongest variables (positive or negative) to create our regression model. If the variable is greater than 0.5, it is strongly positive (variable > 0.5). If the variable is less than -0.5, it is strongly negative (variable < 0.5). And if the variable is close to or equal to zero, its strength is considered null."
      ],
      "metadata": {
        "id": "tEzvt-AgI3Vy"
      }
    },
    {
      "cell_type": "code",
      "source": [
        "df_preprocessing.iloc[:,:-2].corr()"
      ],
      "metadata": {
        "id": "HDmG3O9YIRi-"
      },
      "execution_count": null,
      "outputs": []
    },
    {
      "cell_type": "code",
      "source": [
        "plt.figure(figsize=(10,10))\n",
        "sns.heatmap(df_preprocessing.iloc[:,:-2].corr(),annot=True)"
      ],
      "metadata": {
        "id": "Rp91HbHMIwyt"
      },
      "execution_count": null,
      "outputs": []
    },
    {
      "cell_type": "code",
      "source": [
        "x_cb = df_preprocessing[['Session_Duration (hours)','Fat_Percentage','Workout_Frequency (days/week)']].values\n",
        "y_cb = df_preprocessing['Calories_Burned'].values"
      ],
      "metadata": {
        "id": "iakWaNIiLIqr"
      },
      "execution_count": null,
      "outputs": []
    },
    {
      "cell_type": "code",
      "source": [
        "x_cb_train,x_cb_test,y_cb_train,y_cb_test = train_test_split(x_cb,y_cb,test_size=0.2,random_state=0)"
      ],
      "metadata": {
        "id": "hkrNP8BTMH21"
      },
      "execution_count": null,
      "outputs": []
    },
    {
      "cell_type": "code",
      "source": [
        "model = LinearRegression()\n",
        "linear_model = model.fit(x_cb_train,y_cb_train)\n",
        "prediction_train = linear_model.predict(x_cb_train)\n",
        "prediction_test = linear_model.predict(x_cb_test)\n",
        "print(linear_model.coef_,linear_model.intercept_)\n",
        "print('Train score:',round(linear_model.score(x_cb_train,y_cb_train),3)*100)\n",
        "print('Test score:',round(linear_model.score(x_cb_test,y_cb_test),3)*100)\n",
        "print(mean_squared_error(y_cb_train,prediction_train),mean_squared_error(y_cb_test,prediction_test))\n",
        "print(mean_absolute_error(y_cb_train,prediction_train),mean_squared_error(y_cb_test,prediction_test))"
      ],
      "metadata": {
        "id": "0rEjRCHPMV71"
      },
      "execution_count": null,
      "outputs": []
    },
    {
      "cell_type": "markdown",
      "source": [
        "The function that our LineaRegression create is Y = 694.51683961 * X  -4.95866653 * Z -13.94390992 * W + 203.9242449799383. And the score on the train's data is 83% and tests data is 84,5%"
      ],
      "metadata": {
        "id": "6Llg831mNEIW"
      }
    },
    {
      "cell_type": "code",
      "source": [
        "sns.scatterplot(x=x_cb_train[:, 0], y=y_cb_train)\n",
        "sns.scatterplot(x=x_cb_train[:, 0], y=prediction_train)\n",
        "plt.legend(['Train','Train prediction'])\n",
        "plt.xlabel('Session_Duration (hours)')\n",
        "plt.ylabel('Calories Burned')\n",
        "plt.title('Calories Burned vs. Session Duration (hours)')\n",
        "plt.show()"
      ],
      "metadata": {
        "id": "cD8a1oJiQQSA"
      },
      "execution_count": null,
      "outputs": []
    },
    {
      "cell_type": "code",
      "source": [
        "sns.scatterplot(x=x_cb_train[:, 1], y=y_cb_train)\n",
        "sns.scatterplot(x=x_cb_train[:, 1], y=prediction_train)\n",
        "plt.legend(['Train','Train prediction'])\n",
        "plt.xlabel('Fat Percentage')\n",
        "plt.ylabel('Calories Burned')\n",
        "plt.title('Calories Burned vs. Fat_Percentage')\n",
        "plt.show()"
      ],
      "metadata": {
        "id": "l1tJlvsPQbaQ"
      },
      "execution_count": null,
      "outputs": []
    },
    {
      "cell_type": "code",
      "source": [
        "sns.scatterplot(x=x_cb_train[:, 2], y=y_cb_train)\n",
        "sns.scatterplot(x=x_cb_train[:, 2], y=prediction_train)\n",
        "plt.legend(['Train','Train prediction'])\n",
        "plt.xlabel('Workout_Frequency (days/week)')\n",
        "plt.ylabel('Calories Burned')\n",
        "plt.title('Calories Burned vs. Workout_Frequency (days/week)')\n",
        "plt.show()"
      ],
      "metadata": {
        "id": "Ivlv_lh3Q71B"
      },
      "execution_count": null,
      "outputs": []
    },
    {
      "cell_type": "code",
      "source": [
        "sns.scatterplot(x=x_cb_test[:, 0], y=y_cb_test)\n",
        "sns.scatterplot(x=x_cb_test[:, 0], y=prediction_test)\n",
        "plt.legend(['Train','Train prediction'])\n",
        "plt.xlabel('Session_Duration (hours)')\n",
        "plt.ylabel('Calories Burned')\n",
        "plt.title('Calories Burned vs. Session Duration (hours)')\n",
        "plt.show()\n"
      ],
      "metadata": {
        "id": "Teryy43RNss3"
      },
      "execution_count": null,
      "outputs": []
    },
    {
      "cell_type": "code",
      "source": [
        "sns.scatterplot(x=x_cb_test[:, 1], y=y_cb_test)\n",
        "sns.scatterplot(x=x_cb_test[:, 1], y=prediction_test)\n",
        "plt.legend(['Test','Test prediction'])\n",
        "plt.xlabel('Fat Percentage')\n",
        "plt.ylabel('Calories Burned')\n",
        "plt.title('Calories Burned vs. Fat_Percentage')\n",
        "plt.show()"
      ],
      "metadata": {
        "id": "cV67JTcwPLME"
      },
      "execution_count": null,
      "outputs": []
    },
    {
      "cell_type": "code",
      "source": [
        "sns.scatterplot(x=x_cb_test[:, 2], y=y_cb_test)\n",
        "sns.scatterplot(x=x_cb_test[:, 2], y=prediction_test)\n",
        "plt.legend(['Test','Test prediction'])\n",
        "plt.xlabel('Workout_Frequency (days/week)')\n",
        "plt.ylabel('Calories Burned')\n",
        "plt.title('Calories Burned vs. Workout_Frequency (days/week)')\n",
        "plt.show()"
      ],
      "metadata": {
        "id": "Y1xqMWFZPi6y"
      },
      "execution_count": null,
      "outputs": []
    },
    {
      "cell_type": "markdown",
      "source": [
        "Let's try with Ridge function"
      ],
      "metadata": {
        "id": "sJr23nWhV_6A"
      }
    },
    {
      "cell_type": "code",
      "source": [
        "ridge = Ridge()\n",
        "ridge_model = ridge.fit(x_cb_train,y_cb_train)\n",
        "prediction_train = ridge_model.predict(x_cb_train)\n",
        "prediction_test = ridge_model.predict(x_cb_test)\n",
        "print(ridge_model.coef_,ridge_model.intercept_)\n",
        "print('Train score:',round(ridge_model.score(x_cb_train,y_cb_train),3)*100)\n",
        "print('Test score:',round(ridge_model.score(x_cb_test,y_cb_test),3)*100)\n"
      ],
      "metadata": {
        "id": "i-8mcKsiKRKR"
      },
      "execution_count": null,
      "outputs": []
    },
    {
      "cell_type": "markdown",
      "source": [
        "Th function that our Ridge create is Y = 679.85919549 * X -5.22780541 * Z -11.40942128 * W + 220.70894588408976. And the score on the train's data is 83% and tests data is 84,5%. So we don't have any difference between the Ridge and the Linear Model in fact"
      ],
      "metadata": {
        "id": "67lx1yfiW1Yv"
      }
    },
    {
      "cell_type": "markdown",
      "source": [
        "Now let's make the Experience Level classification"
      ],
      "metadata": {
        "id": "Ey3lhm34YU-q"
      }
    },
    {
      "cell_type": "code",
      "source": [
        "df_preprocessing.shape"
      ],
      "metadata": {
        "id": "f-p9PxCJhV0L"
      },
      "execution_count": null,
      "outputs": []
    },
    {
      "cell_type": "code",
      "source": [
        "#First, I will use the OneHotEncoder and ColumnTransformer on the Gender column. Finally, I will apply StandardScaler to prepare the data for the classification model.\n",
        "OneHotEncoderGender = ColumnTransformer([('Gender',OneHotEncoder(),[1])],remainder='passthrough')\n",
        "x_experiênce_level = df_preprocessing.iloc[:,:-2].values\n",
        "y_experience_level = df_preprocessing.iloc[:,-2].values\n",
        "x_experiênce_level = OneHotEncoderGender.fit_transform(x_experiênce_level)\n",
        "x_experiênce_level = StandardScaler().fit_transform(x_experiênce_level)\n",
        "x_experiênce_level.shape"
      ],
      "metadata": {
        "id": "fuG9henAevJO"
      },
      "execution_count": null,
      "outputs": []
    },
    {
      "cell_type": "markdown",
      "source": [
        "Now Let's try using some methods to create our classification. First let's try use Gaussian. Accuracy 88%"
      ],
      "metadata": {
        "id": "3WFRf2cqjgw6"
      }
    },
    {
      "cell_type": "code",
      "source": [
        "gaussianModel = GaussianNB()\n",
        "x_experiênce_level_train,x_experiênce_level_test,y_experience_level_train,y_experience_level_test = train_test_split(x_experiênce_level,y_experience_level,test_size=0.2,random_state=0)\n",
        "gaussian_model = gaussianModel.fit(x_experiênce_level_train,y_experience_level_train)"
      ],
      "metadata": {
        "id": "zIYQvjTXjgQt"
      },
      "execution_count": null,
      "outputs": []
    },
    {
      "cell_type": "code",
      "source": [
        "prediction_train_level = gaussian_model.predict(x_experiênce_level_train)\n",
        "prediction_test_level = gaussian_model.predict(x_experiênce_level_test)\n",
        "\n",
        "print('Train score:',round(accuracy_score(y_experience_level_train,prediction_train_level),3)*100)\n",
        "print('Test score:',round(accuracy_score(y_experience_level_test,prediction_test_level),3)*100)"
      ],
      "metadata": {
        "id": "e-2u0CNwnff7"
      },
      "execution_count": null,
      "outputs": []
    },
    {
      "cell_type": "code",
      "source": [
        "confusion_matrix(y_experience_level_train,prediction_train_level),confusion_matrix(y_experience_level_test,prediction_test_level)"
      ],
      "metadata": {
        "id": "AEldP95Mn4St"
      },
      "execution_count": null,
      "outputs": []
    },
    {
      "cell_type": "code",
      "source": [
        "print(classification_report(y_experience_level_train,prediction_train_level),classification_report(y_experience_level_test,prediction_test_level))"
      ],
      "metadata": {
        "id": "oRQKZDnzoHWN"
      },
      "execution_count": null,
      "outputs": []
    },
    {
      "cell_type": "code",
      "source": [
        "param_grid = {\n",
        "    'var_smoothing': [1e-9, 1e-8, 1e-7, 1e-6, 1e-5]\n",
        "}\n",
        "\n",
        "grid_search = GridSearchCV(estimator=gaussianModel, param_grid=param_grid, cv=5)\n",
        "grid_search.fit(x_experiênce_level_train, y_experience_level_train)\n",
        "\n",
        "best_params = grid_search.best_params_\n",
        "best_score = grid_search.best_score_\n",
        "\n",
        "print(\"Best Parameters:\", best_params)\n",
        "print(\"Best Score:\", best_score)"
      ],
      "metadata": {
        "id": "lOWA9Q6-otbp"
      },
      "execution_count": null,
      "outputs": []
    },
    {
      "cell_type": "markdown",
      "source": [
        "Now Let's use the Decision Tree and forward I'll use the grid Search to create the algorithm. Accuracy: 87%"
      ],
      "metadata": {
        "id": "dSxKGo0Apz9u"
      }
    },
    {
      "cell_type": "code",
      "source": [
        "param_grid = {\n",
        "    'criterion': ['gini', 'entropy'],\n",
        "    'max_depth': [None, 10, 20, 30],\n",
        "    'min_samples_split': [2, 5, 10],\n",
        "    'min_samples_leaf': [1, 2, 4],\n",
        "    'max_features': [None, 'sqrt', 'log2']\n",
        "}\n",
        "grid_search = GridSearchCV(estimator=DecisionTreeClassifier(), param_grid=param_grid, cv=5, scoring='accuracy')\n",
        "grid_search.fit(x_experiênce_level_train, y_experience_level_train)\n",
        "best_params = grid_search.best_params_\n",
        "best_score = grid_search.best_score_\n",
        "\n",
        "print(\"Best Parameters:\", best_params)"
      ],
      "metadata": {
        "id": "r2V8A7CFwp-I"
      },
      "execution_count": null,
      "outputs": []
    },
    {
      "cell_type": "code",
      "source": [
        "decisionTreeXpLevel = DecisionTreeClassifier(criterion = 'gini', max_depth = 30, max_features= None, min_samples_leaf = 1, min_samples_split= 10)\n",
        "decisionTreeXpLevel_model = decisionTreeXpLevel.fit(x_experiênce_level_train,y_experience_level_train)\n",
        "print('Train score: ',accuracy_score(y_experience_level_train,decisionTreeXpLevel_model.predict(x_experiênce_level_train)))\n",
        "print('Test score: ',accuracy_score(y_experience_level_test,decisionTreeXpLevel_model.predict(x_experiênce_level_test)))"
      ],
      "metadata": {
        "id": "_6Y97YdUq_Di"
      },
      "execution_count": null,
      "outputs": []
    },
    {
      "cell_type": "markdown",
      "source": [
        "Let's see the tree"
      ],
      "metadata": {
        "id": "ktmwhRhDI2Ho"
      }
    },
    {
      "cell_type": "code",
      "source": [
        "figure,ax = plt.subplots(nrows=1,ncols=1,figsize=(10,10))\n",
        "tree.plot_tree(\n",
        "    decisionTreeXpLevel_model,\n",
        "    filled=True,\n",
        "    ax=ax\n",
        ")"
      ],
      "metadata": {
        "id": "GkQ3407LuJHl"
      },
      "execution_count": null,
      "outputs": []
    },
    {
      "cell_type": "code",
      "source": [
        "confusion_matrix(y_experience_level_train,decisionTreeXpLevel_model.predict(x_experiênce_level_train)),confusion_matrix(y_experience_level_test,decisionTreeXpLevel_model.predict(x_experiênce_level_test))"
      ],
      "metadata": {
        "id": "ZjF3AzV1sJyI"
      },
      "execution_count": null,
      "outputs": []
    },
    {
      "cell_type": "code",
      "source": [
        "print(classification_report(y_experience_level_train,decisionTreeXpLevel_model.predict(x_experiênce_level_train)),classification_report(y_experience_level_test,decisionTreeXpLevel_model.predict(x_experiênce_level_test)))"
      ],
      "metadata": {
        "id": "MxN9kL1nsNh9"
      },
      "execution_count": null,
      "outputs": []
    },
    {
      "cell_type": "markdown",
      "source": [
        "Now I'm going to use the random forest algoritm.Accuracy"
      ],
      "metadata": {
        "id": "cio2dVzVs5HI"
      }
    },
    {
      "cell_type": "code",
      "source": [
        "param_grid = {\n",
        "    'n_estimators': [100, 150, 200],\n",
        "    'criterion': ['gini', 'entropy'],\n",
        "    'max_depth': [None, 10, 20, 30],\n",
        "    'min_samples_split': [2, 5, 10],\n",
        "    'min_samples_leaf': [1, 2, 5],\n",
        "    'max_features': [None, 'sqrt', 'log2'],\n",
        "    'bootstrap': [True, False],\n",
        "    'oob_score': [True, False]\n",
        "}\n",
        "\n",
        "grid_search = GridSearchCV(estimator=RandomForestClassifier(), param_grid=param_grid, cv=5, scoring='accuracy')\n",
        "grid_search.fit(x_experiênce_level_train, y_experience_level_train)\n",
        "best_params = grid_search.best_params_\n",
        "best_score = grid_search.best_score_\n",
        "\n",
        "print(\"Best Parameters:\", best_params)"
      ],
      "metadata": {
        "id": "Ii6wFWdmsZOq"
      },
      "execution_count": null,
      "outputs": []
    },
    {
      "cell_type": "code",
      "source": [],
      "metadata": {
        "id": "xktAPrOktkzK"
      },
      "execution_count": null,
      "outputs": []
    }
  ]
}